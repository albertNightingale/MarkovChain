{
 "cells": [
  {
   "cell_type": "code",
   "execution_count": 1,
   "id": "84e0a0a9",
   "metadata": {},
   "outputs": [],
   "source": [
    "import numpy as np\n",
    "from scipy import linalg as LA"
   ]
  },
  {
   "cell_type": "code",
   "execution_count": 2,
   "id": "23687245",
   "metadata": {},
   "outputs": [
    {
     "name": "stdout",
     "output_type": "stream",
     "text": [
      "M\n",
      "[[0.  0.  0.6 0.  0.  0.  0.1 0.  0.  0. ]\n",
      " [0.  0.  0.  0.  0.3 0.  0.  0.  0.  0. ]\n",
      " [0.  0.2 0.  0.  0.3 0.1 0.  0.  0.1 0. ]\n",
      " [0.  0.  0.  0.  0.  0.1 0.  0.5 0.4 0. ]\n",
      " [0.  0.  0.  0.  0.  0.4 0.  0.  0.  0. ]\n",
      " [0.6 0.  0.  0.  0.  0.  0.5 0.  0.  0. ]\n",
      " [0.  0.  0.  0.  0.  0.  0.4 0.  0.1 0.5]\n",
      " [0.4 0.5 0.  0.2 0.3 0.  0.  0.  0.  0. ]\n",
      " [0.  0.  0.  0.4 0.  0.  0.  0.5 0.  0. ]\n",
      " [0.  0.3 0.4 0.4 0.1 0.4 0.  0.  0.4 0.5]]\n",
      "size\n",
      "10\n"
     ]
    }
   ],
   "source": [
    "M = np.genfromtxt('M.csv', delimiter=',')\n",
    "size = M.shape[0]\n",
    "\n",
    "print(\"M\")\n",
    "print(M)\n",
    "print(\"size\")\n",
    "print(size)"
   ]
  },
  {
   "cell_type": "markdown",
   "id": "ab040488",
   "metadata": {},
   "source": [
    "## Eigen Analysis"
   ]
  },
  {
   "cell_type": "code",
   "execution_count": 3,
   "id": "213f7ebe",
   "metadata": {},
   "outputs": [
    {
     "name": "stdout",
     "output_type": "stream",
     "text": [
      "[-0.12035   +0.j         -0.0974722 -0.0964816j  -0.0974722 +0.0964816j\n",
      " -0.05636152+0.31121603j -0.05636152-0.31121603j  0.33275266+0.20436279j\n",
      "  0.33275266-0.20436279j -0.3779016 +0.j         -0.38715739+0.01149969j\n",
      " -0.38715739-0.01149969j]\n"
     ]
    }
   ],
   "source": [
    "def eigen_analysis():    \n",
    "    result_pairs = np.linalg.eig(M)\n",
    "    eigen_values = result_pairs[0]\n",
    "    eigen_vectors = result_pairs[1]    \n",
    "    v1 = eigen_vectors[0]\n",
    "    q_ = v1 / np.linalg.norm(v1)\n",
    "    return np.array(q_)\n",
    "    \n",
    "p_from_eigen = eigen_analysis()\n",
    "print(p_from_eigen)"
   ]
  },
  {
   "cell_type": "markdown",
   "id": "54a56026",
   "metadata": {},
   "source": [
    "## State Propagation"
   ]
  },
  {
   "cell_type": "code",
   "execution_count": 4,
   "id": "0ddd05d8",
   "metadata": {},
   "outputs": [
    {
     "name": "stdout",
     "output_type": "stream",
     "text": [
      "[0.04832012 0.0175804  0.04136312 0.06662768 0.05860132 0.14650329\n",
      " 0.23502244 0.05902418 0.05616316 0.2707943 ]\n"
     ]
    }
   ],
   "source": [
    "def state_propagation(q_0, t):\n",
    "    q_i = q_0\n",
    "    for i in range(t):\n",
    "        q_i = np.matmul(M, q_i)\n",
    "    return q_i\n",
    "        \n",
    "q_0 = np.zeros(size)\n",
    "q_0[0] = 1\n",
    "q_0 = q_0.T\n",
    "t = 2048\n",
    "p_from_stateprop = state_propagation(q_0, t)\n",
    "print(p_from_stateprop)"
   ]
  },
  {
   "cell_type": "markdown",
   "id": "59c968c1",
   "metadata": {},
   "source": [
    "## Matrix Power"
   ]
  },
  {
   "cell_type": "code",
   "execution_count": 5,
   "id": "d03785e0",
   "metadata": {},
   "outputs": [
    {
     "name": "stdout",
     "output_type": "stream",
     "text": [
      "[0.04832012 0.0175804  0.04136312 0.06662768 0.05860132 0.14650329\n",
      " 0.23502244 0.05902418 0.05616316 0.2707943 ]\n"
     ]
    }
   ],
   "source": [
    "def matrix_power(q_0, t):\n",
    "    q_ = np.matmul(np.linalg.matrix_power(M, t), q_0)\n",
    "    return q_\n",
    "\n",
    "q_0 = np.zeros(size)\n",
    "q_0[0] = 1\n",
    "q_0 = q_0.T\n",
    "t = 2048\n",
    "p_from_matrixpower = state_propagation(q_0, t)\n",
    "print(p_from_matrixpower)"
   ]
  },
  {
   "cell_type": "markdown",
   "id": "3a8a8c4e",
   "metadata": {},
   "source": [
    "## Random Walk"
   ]
  },
  {
   "cell_type": "code",
   "execution_count": 6,
   "id": "79dd96c2",
   "metadata": {},
   "outputs": [
    {
     "name": "stdout",
     "output_type": "stream",
     "text": [
      "[0.02 0.02 0.03 0.08 0.06 0.15 0.25 0.09 0.03 0.27]\n"
     ]
    }
   ],
   "source": [
    "def random_walk(q_0, t0, t):\n",
    "    # burn in period\n",
    "    M_t = M.T\n",
    "    idx_current_in = 0\n",
    "    for i in range(t0):\n",
    "        idx_current_in = np.random.choice(size, 1, p=M_t[idx_current_in])[0]\n",
    "    \n",
    "    s = np.zeros(size)\n",
    "    for i in range(t):\n",
    "        idx_current_in = np.random.choice(size, 1, p=M_t[idx_current_in])[0]\n",
    "        s[idx_current_in] += 1\n",
    "    q_ = np.divide(s, t)\n",
    "    return q_\n",
    "\n",
    "\n",
    "q_0 = np.zeros(size)\n",
    "q_0[0] = 1\n",
    "q_0 = q_0.T\n",
    "t = 2048\n",
    "t0 = 100\n",
    "p_from_randomwalk = random_walk(q_0, t, t0)\n",
    "print(p_from_randomwalk)"
   ]
  },
  {
   "cell_type": "markdown",
   "id": "d5883430",
   "metadata": {},
   "source": [
    "### 1A: Run each method and report the answers"
   ]
  },
  {
   "cell_type": "code",
   "execution_count": 7,
   "id": "265f1b4d",
   "metadata": {},
   "outputs": [
    {
     "name": "stdout",
     "output_type": "stream",
     "text": [
      "Eigen Analysis\n",
      "[-0.12035   +0.j         -0.0974722 -0.0964816j  -0.0974722 +0.0964816j\n",
      " -0.05636152+0.31121603j -0.05636152-0.31121603j  0.33275266+0.20436279j\n",
      "  0.33275266-0.20436279j -0.3779016 +0.j         -0.38715739+0.01149969j\n",
      " -0.38715739-0.01149969j]\n",
      "norm 1.0\n",
      "sum (-0.9147284788397201+0j)\n",
      "\n",
      "State Propagation\n",
      "[0.04832012 0.0175804  0.04136312 0.06662768 0.05860132 0.14650329\n",
      " 0.23502244 0.05902418 0.05616316 0.2707943 ]\n",
      "norm 0.41096793674714016\n",
      "sum 1.0000000000000016\n",
      "\n",
      "Matrix Power\n",
      "[0.04832012 0.0175804  0.04136312 0.06662768 0.05860132 0.14650329\n",
      " 0.23502244 0.05902418 0.05616316 0.2707943 ]\n",
      "norm 0.41096793674714016\n",
      "sum 1.0000000000000016\n",
      "\n",
      "Random Walk\n",
      "[0.02 0.02 0.03 0.08 0.06 0.15 0.25 0.09 0.03 0.27]\n",
      "norm 0.4226109321823088\n",
      "sum 1.0\n",
      "\n"
     ]
    }
   ],
   "source": [
    "print(\"Eigen Analysis\")\n",
    "print(p_from_eigen)\n",
    "print(\"norm\", np.linalg.norm(p_from_eigen))\n",
    "print(\"sum\", np.sum(p_from_eigen))\n",
    "print()\n",
    "\n",
    "print(\"State Propagation\")\n",
    "print(p_from_stateprop)\n",
    "print(\"norm\", np.linalg.norm(p_from_stateprop))\n",
    "print(\"sum\", np.sum(p_from_stateprop))\n",
    "print()\n",
    "\n",
    "print(\"Matrix Power\")\n",
    "print(p_from_matrixpower)\n",
    "print(\"norm\", np.linalg.norm(p_from_matrixpower))\n",
    "print(\"sum\", np.sum(p_from_matrixpower))\n",
    "print()\n",
    "\n",
    "print(\"Random Walk\")\n",
    "print(p_from_randomwalk)\n",
    "print(\"norm\", np.linalg.norm(p_from_randomwalk))\n",
    "print(\"sum\", np.sum(p_from_randomwalk))\n",
    "print()"
   ]
  },
  {
   "cell_type": "markdown",
   "id": "b8409a2c",
   "metadata": {},
   "source": [
    "### 1B: Rerun the Matrix Power and State Propagation techniques with q0 = [0.1, 0.1, . . . , 0.1]T. For what value of t is required to get as close to the true answer as the older initial state?"
   ]
  },
  {
   "cell_type": "markdown",
   "id": "1c36f2a8",
   "metadata": {},
   "source": [
    "#### State Propagation"
   ]
  },
  {
   "cell_type": "code",
   "execution_count": 25,
   "id": "35666feb",
   "metadata": {},
   "outputs": [
    {
     "name": "stdout",
     "output_type": "stream",
     "text": [
      "**************State Propagation: **************\n",
      "converged case when t ==  2048\n",
      "[0.04832012 0.0175804  0.04136312 0.06662768 0.05860132 0.14650329\n",
      " 0.23502244 0.05902418 0.05616316 0.2707943 ]\n",
      "sum:  1.000000000000001\n",
      "norm:  0.41096793674713994\n",
      "\n",
      "iterate from t = 1 to 100\n",
      "case when t ==  1 , delta from converged result:  0.17493434590763998\n",
      "case when t ==  2 , delta from converged result:  0.11351543995478222\n",
      "case when t ==  3 , delta from converged result:  0.05867270887367954\n",
      "case when t ==  4 , delta from converged result:  0.031501864835394536\n",
      "case when t ==  5 , delta from converged result:  0.017631111365310943\n",
      "case when t ==  6 , delta from converged result:  0.011501514966775376\n",
      "case when t ==  7 , delta from converged result:  0.007024912382931624\n",
      "case when t ==  8 , delta from converged result:  0.003792159405752857\n",
      "case when t ==  9 , delta from converged result:  0.0019485119459941543\n",
      "case when t ==  10 , delta from converged result:  0.0011257986797107047\n",
      "case when t ==  11 , delta from converged result:  0.000747147340373778\n",
      "case when t ==  12 , delta from converged result:  0.00045823964798244433\n",
      "case when t ==  13 , delta from converged result:  0.00024472348751521594\n",
      "case when t ==  14 , delta from converged result:  0.0001249565563763112\n",
      "case when t ==  15 , delta from converged result:  7.331760200230261e-05\n",
      "case when t ==  16 , delta from converged result:  4.8121418777239945e-05\n",
      "case when t ==  17 , delta from converged result:  2.937191827668406e-05\n",
      "case when t ==  18 , delta from converged result:  1.5681966291114328e-05\n",
      "case when t ==  19 , delta from converged result:  8.027869790050542e-06\n",
      "case when t ==  20 , delta from converged result:  4.794326738168279e-06\n",
      "case when t ==  21 , delta from converged result:  3.1411063721801704e-06\n",
      "case when t ==  22 , delta from converged result:  1.887362077016526e-06\n",
      "case when t ==  23 , delta from converged result:  9.99313375555468e-07\n",
      "case when t ==  24 , delta from converged result:  5.147751575114707e-07\n",
      "case when t ==  25 , delta from converged result:  3.1136660663187545e-07\n",
      "case when t ==  26 , delta from converged result:  2.0440428352130225e-07\n",
      "case when t ==  27 , delta from converged result:  1.2171912368827626e-07\n",
      "case when t ==  28 , delta from converged result:  6.384581218950224e-08\n",
      "case when t ==  29 , delta from converged result:  3.310175081582247e-08\n",
      "case when t ==  30 , delta from converged result:  2.0261446278919206e-08\n",
      "case when t ==  31 , delta from converged result:  1.3255987621329265e-08\n",
      "case when t ==  32 , delta from converged result:  7.827065578881237e-09\n",
      "case when t ==  33 , delta from converged result:  4.080119506449606e-09\n",
      "case when t ==  34 , delta from converged result:  2.131218710349508e-09\n",
      "case when t ==  35 , delta from converged result:  1.3210080086808827e-09\n",
      "case when t ==  36 , delta from converged result:  8.604902935919852e-10\n",
      "case when t ==  37 , delta from converged result:  5.027102560042229e-10\n",
      "case when t ==  38 , delta from converged result:  2.605181265696651e-10\n",
      "case when t ==  39 , delta from converged result:  1.3729088040370872e-10\n",
      "case when t ==  40 , delta from converged result:  8.606758536546467e-11\n",
      "case when t ==  41 , delta from converged result:  5.583545025080446e-11\n",
      "case when t ==  42 , delta from converged result:  3.2287661261662056e-11\n",
      "case when t ==  43 , delta from converged result:  1.663766887509508e-11\n",
      "case when t ==  44 , delta from converged result:  8.856424686537256e-12\n",
      "case when t ==  45 , delta from converged result:  5.607520374624788e-12\n",
      "case when t ==  46 , delta from converged result:  3.6187073333999195e-12\n",
      "case when t ==  47 , delta from converged result:  2.0720879994428506e-12\n",
      "case when t ==  48 , delta from converged result:  1.0628454759485662e-12\n",
      "case when t ==  49 , delta from converged result:  5.721298951411995e-13\n",
      "case when t ==  50 , delta from converged result:  3.6559404307630463e-13\n",
      "case when t ==  51 , delta from converged result:  2.3446838404691907e-13\n",
      "case when t ==  52 , delta from converged result:  1.328976089454104e-13\n",
      "case when t ==  53 , delta from converged result:  6.790416287412103e-14\n",
      "case when t ==  54 , delta from converged result:  3.694366442641257e-14\n",
      "case when t ==  55 , delta from converged result:  2.376776888855713e-14\n",
      "case when t ==  56 , delta from converged result:  1.5125848508919468e-14\n",
      "case when t ==  57 , delta from converged result:  8.496978040924714e-15\n",
      "case when t ==  58 , delta from converged result:  4.373688915307122e-15\n",
      "case when t ==  59 , delta from converged result:  2.4395146774954913e-15\n",
      "case when t ==  60 , delta from converged result:  1.5868425072612732e-15\n",
      "case when t ==  61 , delta from converged result:  1.0191437675853375e-15\n",
      "case when t ==  62 , delta from converged result:  5.664981147768063e-16\n",
      "case when t ==  63 , delta from converged result:  2.915161381400467e-16\n",
      "case when t ==  64 , delta from converged result:  1.3441588555964194e-16\n",
      "case when t ==  65 , delta from converged result:  8.246781260660081e-17\n",
      "case when t ==  66 , delta from converged result:  5.5075762930801937e-17\n",
      "case when t ==  67 , delta from converged result:  4.550137020152556e-17\n",
      "case when t ==  68 , delta from converged result:  3.179800655392251e-17\n",
      "case when t ==  69 , delta from converged result:  1.3877787807814457e-17\n",
      "case when t ==  70 , delta from converged result:  6.938893903907228e-18\n",
      "case when t ==  71 , delta from converged result:  0.0\n",
      "case when t ==  72 , delta from converged result:  0.0\n",
      "case when t ==  73 , delta from converged result:  0.0\n",
      "case when t ==  74 , delta from converged result:  0.0\n",
      "case when t ==  75 , delta from converged result:  0.0\n",
      "case when t ==  76 , delta from converged result:  0.0\n",
      "case when t ==  77 , delta from converged result:  0.0\n",
      "case when t ==  78 , delta from converged result:  0.0\n",
      "case when t ==  79 , delta from converged result:  0.0\n",
      "case when t ==  80 , delta from converged result:  0.0\n",
      "case when t ==  81 , delta from converged result:  0.0\n",
      "case when t ==  82 , delta from converged result:  0.0\n",
      "case when t ==  83 , delta from converged result:  0.0\n",
      "case when t ==  84 , delta from converged result:  0.0\n",
      "case when t ==  85 , delta from converged result:  0.0\n",
      "case when t ==  86 , delta from converged result:  0.0\n",
      "case when t ==  87 , delta from converged result:  0.0\n",
      "case when t ==  88 , delta from converged result:  0.0\n",
      "case when t ==  89 , delta from converged result:  0.0\n",
      "case when t ==  90 , delta from converged result:  0.0\n",
      "case when t ==  91 , delta from converged result:  0.0\n",
      "case when t ==  92 , delta from converged result:  0.0\n",
      "case when t ==  93 , delta from converged result:  0.0\n",
      "case when t ==  94 , delta from converged result:  0.0\n",
      "case when t ==  95 , delta from converged result:  0.0\n",
      "case when t ==  96 , delta from converged result:  0.0\n",
      "case when t ==  97 , delta from converged result:  0.0\n",
      "case when t ==  98 , delta from converged result:  0.0\n",
      "case when t ==  99 , delta from converged result:  0.0\n",
      "\n",
      "\n"
     ]
    }
   ],
   "source": [
    "q_0 = np.empty(size).T\n",
    "q_0.fill(0.1)\n",
    "\n",
    "t = 2048\n",
    "converge_p_from_stateprop_distri = state_propagation(q_0, t)\n",
    "\n",
    "print(\"**************State Propagation: **************\")\n",
    "print(\"converged case when t == \", t)\n",
    "print(converge_p_from_stateprop_distri)\n",
    "print(\"norm: \", np.linalg.norm(converge_p_from_stateprop_distri))\n",
    "print()\n",
    "\n",
    "print(\"iterate from t = 1 to 100\")\n",
    "\n",
    "for t in range(1, 100):\n",
    "    p_from_stateprop_distri = state_propagation(q_0, t)\n",
    "    # print(\"case when t == \", t)\n",
    "    # print(p_from_stateprop_distri)\n",
    "    print(\"case when t == \", t, \", delta from converged result: \", np.linalg.norm(converge_p_from_stateprop_distri-p_from_stateprop_distri))\n",
    "    # print()\n",
    "print()\n",
    "print()"
   ]
  },
  {
   "cell_type": "markdown",
   "id": "e8339480",
   "metadata": {},
   "source": [
    "#### Matrix Power"
   ]
  },
  {
   "cell_type": "code",
   "execution_count": 27,
   "id": "5206128d",
   "metadata": {},
   "outputs": [
    {
     "name": "stdout",
     "output_type": "stream",
     "text": [
      "**************Matrix Power: **************\n",
      "converged case when t ==  2048\n",
      "[0.04832012 0.0175804  0.04136312 0.06662768 0.05860132 0.14650329\n",
      " 0.23502244 0.05902418 0.05616316 0.2707943 ]\n",
      "norm:  0.41096793674716386\n",
      "\n",
      "iterate from t = 1 to 100\n",
      "case when t ==  1 , delta from converged result:  0.17493434590765075\n",
      "case when t ==  2 , delta from converged result:  0.11351543995478824\n",
      "case when t ==  3 , delta from converged result:  0.05867270887367867\n",
      "case when t ==  4 , delta from converged result:  0.031501864835386126\n",
      "case when t ==  5 , delta from converged result:  0.017631111365297596\n",
      "case when t ==  6 , delta from converged result:  0.01150151496676444\n",
      "case when t ==  7 , delta from converged result:  0.007024912382926099\n",
      "case when t ==  8 , delta from converged result:  0.0037921594057542885\n",
      "case when t ==  9 , delta from converged result:  0.0019485119460033926\n",
      "case when t ==  10 , delta from converged result:  0.0011257986797240814\n",
      "case when t ==  11 , delta from converged result:  0.0007471473403844537\n",
      "case when t ==  12 , delta from converged result:  0.0004582396479874991\n",
      "case when t ==  13 , delta from converged result:  0.0002447234875132012\n",
      "case when t ==  14 , delta from converged result:  0.00012495655636648542\n",
      "case when t ==  15 , delta from converged result:  7.331760198900188e-05\n",
      "case when t ==  16 , delta from converged result:  4.812141876691809e-05\n",
      "case when t ==  17 , delta from converged result:  2.937191827202081e-05\n",
      "case when t ==  18 , delta from converged result:  1.5681966293652645e-05\n",
      "case when t ==  19 , delta from converged result:  8.027869800380868e-06\n",
      "case when t ==  20 , delta from converged result:  4.794326751395938e-06\n",
      "case when t ==  21 , delta from converged result:  3.1411063821065414e-06\n",
      "case when t ==  22 , delta from converged result:  1.8873620811703143e-06\n",
      "case when t ==  23 , delta from converged result:  9.993133724322847e-07\n",
      "case when t ==  24 , delta from converged result:  5.147751467771131e-07\n",
      "case when t ==  25 , delta from converged result:  3.113665934992188e-07\n",
      "case when t ==  26 , delta from converged result:  2.044042739898829e-07\n",
      "case when t ==  27 , delta from converged result:  1.2171912003191267e-07\n",
      "case when t ==  28 , delta from converged result:  6.38458159054633e-08\n",
      "case when t ==  29 , delta from converged result:  3.310176194512745e-08\n",
      "case when t ==  30 , delta from converged result:  2.0261459277474205e-08\n",
      "case when t ==  31 , delta from converged result:  1.3255996769177009e-08\n",
      "case when t ==  32 , delta from converged result:  7.82706874762957e-09\n",
      "case when t ==  33 , delta from converged result:  4.080115194830236e-09\n",
      "case when t ==  34 , delta from converged result:  2.1312071671302806e-09\n",
      "case when t ==  35 , delta from converged result:  1.3209951694952288e-09\n",
      "case when t ==  36 , delta from converged result:  8.604815303818244e-10\n",
      "case when t ==  37 , delta from converged result:  5.027076039262775e-10\n",
      "case when t ==  38 , delta from converged result:  2.605230168288278e-10\n",
      "case when t ==  39 , delta from converged result:  1.3730278691677534e-10\n",
      "case when t ==  40 , delta from converged result:  8.60802604833896e-11\n",
      "case when t ==  41 , delta from converged result:  5.584382916046638e-11\n",
      "case when t ==  42 , delta from converged result:  3.228980395772803e-11\n",
      "case when t ==  43 , delta from converged result:  1.663222272337722e-11\n",
      "case when t ==  44 , delta from converged result:  8.844251872108761e-12\n",
      "case when t ==  45 , delta from converged result:  5.595115051720633e-12\n",
      "case when t ==  46 , delta from converged result:  3.610837582478406e-12\n",
      "case when t ==  47 , delta from converged result:  2.0705938240461765e-12\n",
      "case when t ==  48 , delta from converged result:  1.0691425686852316e-12\n",
      "case when t ==  49 , delta from converged result:  5.848990408863316e-13\n",
      "case when t ==  50 , delta from converged result:  3.782906571117631e-13\n",
      "case when t ==  51 , delta from converged result:  2.4300458208508885e-13\n",
      "case when t ==  52 , delta from converged result:  1.36090226656277e-13\n",
      "case when t ==  53 , delta from converged result:  6.53428086199335e-14\n",
      "case when t ==  54 , delta from converged result:  3.14659675671499e-14\n",
      "case when t ==  55 , delta from converged result:  2.364004191593211e-14\n",
      "case when t ==  56 , delta from converged result:  2.394654133374726e-14\n",
      "case when t ==  57 , delta from converged result:  2.4924529118103233e-14\n",
      "case when t ==  58 , delta from converged result:  2.533823546791453e-14\n",
      "case when t ==  59 , delta from converged result:  2.4971133726245372e-14\n",
      "case when t ==  60 , delta from converged result:  2.440801400497432e-14\n",
      "case when t ==  61 , delta from converged result:  2.3914517320047966e-14\n",
      "case when t ==  62 , delta from converged result:  2.357562497652056e-14\n",
      "case when t ==  63 , delta from converged result:  2.351895200057651e-14\n",
      "case when t ==  64 , delta from converged result:  2.3472503802585388e-14\n",
      "case when t ==  65 , delta from converged result:  2.3493007464660184e-14\n",
      "case when t ==  66 , delta from converged result:  2.354796534300633e-14\n",
      "case when t ==  67 , delta from converged result:  2.3546290683761734e-14\n",
      "case when t ==  68 , delta from converged result:  2.3554245787859248e-14\n",
      "case when t ==  69 , delta from converged result:  2.355186219641936e-14\n",
      "case when t ==  70 , delta from converged result:  2.3513651174883938e-14\n",
      "case when t ==  71 , delta from converged result:  2.3503623377825655e-14\n",
      "case when t ==  72 , delta from converged result:  2.3476032733105724e-14\n",
      "case when t ==  73 , delta from converged result:  2.3465091423600548e-14\n",
      "case when t ==  74 , delta from converged result:  2.346427577532039e-14\n",
      "case when t ==  75 , delta from converged result:  2.346003497330691e-14\n",
      "case when t ==  76 , delta from converged result:  2.3428239940872252e-14\n",
      "case when t ==  77 , delta from converged result:  2.3455856269117676e-14\n",
      "case when t ==  78 , delta from converged result:  2.341740994712015e-14\n",
      "case when t ==  79 , delta from converged result:  2.3416317368029323e-14\n",
      "case when t ==  80 , delta from converged result:  2.3378255261411243e-14\n",
      "case when t ==  81 , delta from converged result:  2.3377476745614645e-14\n",
      "case when t ==  82 , delta from converged result:  2.3359255572868627e-14\n",
      "case when t ==  83 , delta from converged result:  2.339404550421167e-14\n",
      "case when t ==  84 , delta from converged result:  2.33398915298335e-14\n",
      "case when t ==  85 , delta from converged result:  2.3318874356301166e-14\n",
      "case when t ==  86 , delta from converged result:  2.3337782360221137e-14\n",
      "case when t ==  87 , delta from converged result:  2.331595561297329e-14\n",
      "case when t ==  88 , delta from converged result:  2.3289508173890936e-14\n",
      "case when t ==  89 , delta from converged result:  2.326146175700127e-14\n",
      "case when t ==  90 , delta from converged result:  2.326022497559609e-14\n",
      "case when t ==  91 , delta from converged result:  2.3245584559906307e-14\n",
      "case when t ==  92 , delta from converged result:  2.325853166862901e-14\n",
      "case when t ==  93 , delta from converged result:  2.322511564598299e-14\n",
      "case when t ==  94 , delta from converged result:  2.3238930896660203e-14\n",
      "case when t ==  95 , delta from converged result:  2.32361572623607e-14\n",
      "case when t ==  96 , delta from converged result:  2.3199740377222993e-14\n",
      "case when t ==  97 , delta from converged result:  2.318270226546202e-14\n",
      "case when t ==  98 , delta from converged result:  2.3172814093292463e-14\n",
      "case when t ==  99 , delta from converged result:  2.3160996764368853e-14\n",
      "\n",
      "\n"
     ]
    }
   ],
   "source": [
    "q_0 = np.empty(size).T\n",
    "q_0.fill(0.1)\n",
    "\n",
    "t = 2048\n",
    "converge_p_from_matpow_distri = matrix_power(q_0, t)\n",
    "\n",
    "print(\"**************Matrix Power: **************\")\n",
    "print(\"converged case when t == \", t)\n",
    "print(converge_p_from_matpow_distri)\n",
    "print(\"norm: \", np.linalg.norm(converge_p_from_matpow_distri))\n",
    "print()\n",
    "\n",
    "print(\"iterate from t = 1 to 100\")\n",
    "\n",
    "for t in range(1, 100):\n",
    "    p_from_matpow_distri = matrix_power(q_0, t)\n",
    "    # print(\"case when t == \", t)\n",
    "    # print(p_from_matpow_distri)\n",
    "    print(\"case when t == \", t, \", delta from converged result: \", np.linalg.norm(converge_p_from_matpow_distri-p_from_matpow_distri))\n",
    "    # print()\n",
    "print()\n",
    "print()"
   ]
  }
 ],
 "metadata": {
  "kernelspec": {
   "display_name": "Python 3 (ipykernel)",
   "language": "python",
   "name": "python3"
  },
  "language_info": {
   "codemirror_mode": {
    "name": "ipython",
    "version": 3
   },
   "file_extension": ".py",
   "mimetype": "text/x-python",
   "name": "python",
   "nbconvert_exporter": "python",
   "pygments_lexer": "ipython3",
   "version": "3.9.7"
  }
 },
 "nbformat": 4,
 "nbformat_minor": 5
}
